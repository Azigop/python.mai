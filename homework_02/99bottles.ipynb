n = 100
i = 0
while n > 0:
    if n == 1:
        print(f'{n} bottle of beer on the wall, {n} bottle of beer.')
    else:
        print(f'{n} bottles of beer on the wall, {n} bottles of beer.')
    n = n - 1
    if n == 1:
        print(f'Take one down and pass it around, {n} bottle of beer on the wall.')
    elif n == 0:
        print(f'Take one down and pass it around, no more bottles of beer on the wall.')
        print('Go to the store and buy some more, 99 bottles of beer on the wall.')
    else:
        print(f'Take one down and pass it around, {n} bottles of beer on the wall.')
