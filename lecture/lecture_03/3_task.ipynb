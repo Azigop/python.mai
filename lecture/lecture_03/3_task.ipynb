{
 "cells": [
  {
   "cell_type": "markdown",
   "id": "657be689",
   "metadata": {},
   "source": [
    "# Самостоятельное задание #3\n",
    "\n",
    "\n",
    "### Задание 1\n",
    "\n",
    "Допишите функцию, которая принимает массив из 10 чисел и возвращает их сумму."
   ]
  },
  {
   "cell_type": "code",
   "execution_count": 8,
   "id": "18ffcbab",
   "metadata": {},
   "outputs": [],
   "source": [
    "# Начните писать код тут\n",
    "def summ(arr: list) -> float:\n",
    "    if len(arr) > 10:\n",
    "        print('line of arrey > 10!')\n",
    "        return\n",
    "    n = 0\n",
    "    for i in arr:\n",
    "        n += i\n",
    "    return n"
   ]
  },
  {
   "cell_type": "markdown",
   "id": "eb78afc0",
   "metadata": {},
   "source": [
    "\n",
    "### Задание 2\n",
    "\n",
    "Допишите функцию, которая принимает массив чисел и возвращает количество чисел равных нулю."
   ]
  },
  {
   "cell_type": "code",
   "execution_count": 14,
   "id": "7e8fe536",
   "metadata": {},
   "outputs": [
    {
     "data": {
      "text/plain": [
       "3"
      ]
     },
     "execution_count": 14,
     "metadata": {},
     "output_type": "execute_result"
    }
   ],
   "source": [
    "# Начните писать код тут\n",
    "arr = [1, 0, 5, 0, 6, 0]\n",
    "def count_zero():\n",
    "    num = 0\n",
    "    for i in arr:\n",
    "        if i == 0:\n",
    "            num += 1\n",
    "    return num    \n",
    "count_zero()"
   ]
  },
  {
   "cell_type": "markdown",
   "id": "570d5a26",
   "metadata": {},
   "source": [
    "\n",
    "### Задание 3\n",
    "\n",
    "Напишите программу, в которой задается  натуральное число n и выводится лестница из n ступенек, i-я ступенька должна состоять из чисел от 1 до i без пробелов."
   ]
  },
  {
   "cell_type": "code",
   "execution_count": 8,
   "id": "69fd0501",
   "metadata": {},
   "outputs": [
    {
     "name": "stdout",
     "output_type": "stream",
     "text": [
      "1\n",
      "12\n",
      "123\n",
      "1234\n",
      "12345\n"
     ]
    }
   ],
   "source": [
    "def lestnica(n: int) -> int:\n",
    "    for i in range(1,n+1):\n",
    "        b = 1\n",
    "        while b <= i:\n",
    "            print(b, end='')\n",
    "            b += 1\n",
    "        else:\n",
    "            print('')\n",
    "lestnica(5)"
   ]
  },
  {
   "cell_type": "markdown",
   "id": "b6ef1c44",
   "metadata": {},
   "source": [
    "\n",
    "### Задание 4\n",
    "\n",
    "Напишите программу, в которой задается натуральное число n и выводится пирамида из n ступенек, i-я ступень должна состоять из чисел от 1 до i и обратно без пробелов."
   ]
  },
  {
   "cell_type": "code",
   "execution_count": 33,
   "id": "6b038f87",
   "metadata": {},
   "outputs": [
    {
     "name": "stdout",
     "output_type": "stream",
     "text": [
      "     11\n",
      "    1221\n",
      "   123321\n",
      "  12344321\n",
      " 1234554321\n"
     ]
    }
   ],
   "source": [
    "# Начните писать код тут\n",
    "def lestnica(n: int) -> int:\n",
    "    for i in range(1,n+1):\n",
    "        b = 1\n",
    "        print(' '*(n-i),end=' ')\n",
    "        while b <= i:\n",
    "            print(b, end='')\n",
    "            b += 1\n",
    "        else:\n",
    "            b = 1\n",
    "        while b <= i:\n",
    "            print(i, end='')\n",
    "            i -= 1\n",
    "        else:\n",
    "            print('')\n",
    "lestnica(5)"
   ]
  },
  {
   "cell_type": "markdown",
   "id": "b4552ef5",
   "metadata": {},
   "source": [
    "\n",
    "### Задание 5\n",
    "\n",
    "Напишите программу, в которой задается натуральное число n и выводится ромб из `n*2-1` ступенек, i-я ступень должна состоять из чисел от 1 до i и обратно без пробелов."
   ]
  },
  {
   "cell_type": "code",
   "execution_count": 34,
   "id": "5eaae897",
   "metadata": {},
   "outputs": [
    {
     "name": "stdout",
     "output_type": "stream",
     "text": [
      "     11\n",
      "    1221\n",
      "   123321\n",
      "  12344321\n",
      " 1234554321\n"
     ]
    }
   ],
   "source": [
    "# Начните писать код тут\n",
    "\n",
    "def lestnica(n: int) -> int:\n",
    "    for i in range(1,n+1):\n",
    "        b = 1\n",
    "        print(' '*(n-i),end=' ')\n",
    "        while b <= i:\n",
    "            print(b, end='')\n",
    "            b += 1\n",
    "        else:\n",
    "            b = 1\n",
    "        while b <= i:\n",
    "            print(i, end='')\n",
    "            i -= 1\n",
    "        else:\n",
    "            print('')\n",
    "lestnica(5)"
   ]
  },
  {
   "cell_type": "code",
   "execution_count": 35,
   "id": "ac94c6f1",
   "metadata": {},
   "outputs": [
    {
     "name": "stdout",
     "output_type": "stream",
     "text": [
      "     11\n",
      "    1221\n",
      "   123321\n",
      "  12344321\n",
      " 1234554321\n"
     ]
    }
   ],
   "source": [
    "lestnica(5)\n",
    "for i in range(1,n+1):\n",
    "    b = 1\n",
    "    print(' '*(n-i),end=' ')\n",
    "    while b <= i:\n",
    "        print(b, end='')\n",
    "        b += 1\n",
    "    else:\n",
    "        b = 1\n",
    "    while b <= i:\n",
    "        print(i, end='')\n",
    "        i -= 1\n",
    "    else:\n",
    "        print('')"
   ]
  },
  {
   "cell_type": "code",
   "execution_count": null,
   "id": "730e9840",
   "metadata": {},
   "outputs": [],
   "source": []
  }
 ],
 "metadata": {
  "kernelspec": {
   "display_name": "Python 3",
   "language": "python",
   "name": "python3"
  },
  "language_info": {
   "codemirror_mode": {
    "name": "ipython",
    "version": 3
   },
   "file_extension": ".py",
   "mimetype": "text/x-python",
   "name": "python",
   "nbconvert_exporter": "python",
   "pygments_lexer": "ipython3",
   "version": "3.8.8"
  }
 },
 "nbformat": 4,
 "nbformat_minor": 5
}
