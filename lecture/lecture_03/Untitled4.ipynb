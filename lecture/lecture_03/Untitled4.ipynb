{
 "cells": [
  {
   "cell_type": "code",
   "execution_count": 2,
   "id": "cce07974",
   "metadata": {},
   "outputs": [
    {
     "name": "stdout",
     "output_type": "stream",
     "text": [
      "1\n",
      "2\n",
      "3\n"
     ]
    }
   ],
   "source": [
    "arr = [1, 2, 3]\n",
    "for item in arr:\n",
    "    print(item)"
   ]
  },
  {
   "cell_type": "code",
   "execution_count": 6,
   "id": "e64482fe",
   "metadata": {},
   "outputs": [
    {
     "name": "stdout",
     "output_type": "stream",
     "text": [
      "0\n",
      "1\n",
      "2\n",
      "3\n",
      "4\n",
      "5\n",
      "6\n",
      "7\n",
      "8\n",
      "9\n",
      "Не не не\n",
      "Так не пойдет\n"
     ]
    }
   ],
   "source": [
    "i = 0\n",
    "while i < 10:\n",
    "    print(i)\n",
    "    i += 1\n",
    "else:\n",
    "    print('''Не не не\n",
    "Так не пойдет''')"
   ]
  },
  {
   "cell_type": "code",
   "execution_count": 12,
   "id": "90bd88ad",
   "metadata": {},
   "outputs": [
    {
     "name": "stdout",
     "output_type": "stream",
     "text": [
      "1\n",
      "4\n",
      "9\n",
      "16\n",
      "25\n",
      "36\n",
      "49\n",
      "64\n",
      "81\n"
     ]
    }
   ],
   "source": [
    "def make_square(s: int) ->int:\n",
    "    return s**2\n",
    "    \n",
    "    \n",
    "a = [1, 2, 3, 4, 5, 6, 7, 8, 9]\n",
    "\n",
    "for item in a:\n",
    "    print(make_square(item))"
   ]
  },
  {
   "cell_type": "code",
   "execution_count": 29,
   "id": "76bae1b0",
   "metadata": {},
   "outputs": [
    {
     "name": "stdout",
     "output_type": "stream",
     "text": [
      "Result 42445.0\n"
     ]
    }
   ],
   "source": [
    "euro = 500\n",
    "price = 84.89\n",
    "rub = euro * price\n",
    "print(f'Result {rub}')"
   ]
  },
  {
   "cell_type": "code",
   "execution_count": 26,
   "id": "b0a1cf9d",
   "metadata": {},
   "outputs": [
    {
     "name": "stdout",
     "output_type": "stream",
     "text": [
      "42245.0\n"
     ]
    }
   ],
   "source": [
    "def convert_deneg(price: float, euro: float) -> float:\n",
    "    return price * euro\n",
    "\n",
    "print(convert_deneg(84.49,500))              "
   ]
  },
  {
   "cell_type": "code",
   "execution_count": 27,
   "id": "3f24cdab",
   "metadata": {},
   "outputs": [
    {
     "name": "stdout",
     "output_type": "stream",
     "text": [
      "[10, 20]\n",
      "[10]\n"
     ]
    }
   ],
   "source": [
    "a = [10]\n",
    "b = a\n",
    "c = list(a)\n",
    "b.append(20)\n",
    "print(a)\n",
    "print(c)"
   ]
  },
  {
   "cell_type": "code",
   "execution_count": 23,
   "id": "3cc14269",
   "metadata": {},
   "outputs": [
    {
     "name": "stdout",
     "output_type": "stream",
     "text": [
      "[1, 2]\n"
     ]
    }
   ],
   "source": [
    "def add_in_arr(arr):\n",
    "    arr.append(2)\n",
    "\n",
    "a = [1]\n",
    "add_in_arr(a)\n",
    "print(a)"
   ]
  },
  {
   "cell_type": "code",
   "execution_count": null,
   "id": "dd3cff0e",
   "metadata": {},
   "outputs": [],
   "source": [
    "def \n",
    "def increase_list(a)\n",
    "    num += 2\n",
    "a = [1]\n",
    "increase_list(a)\n",
    "print(f'result of list: {a}')\n",
    "\n",
    "n = 1\n",
    "increase_int(n)\n",
    "print(f'result of int: {n}')"
   ]
  }
 ],
 "metadata": {
  "kernelspec": {
   "display_name": "Python 3",
   "language": "python",
   "name": "python3"
  },
  "language_info": {
   "codemirror_mode": {
    "name": "ipython",
    "version": 3
   },
   "file_extension": ".py",
   "mimetype": "text/x-python",
   "name": "python",
   "nbconvert_exporter": "python",
   "pygments_lexer": "ipython3",
   "version": "3.8.8"
  }
 },
 "nbformat": 4,
 "nbformat_minor": 5
}
