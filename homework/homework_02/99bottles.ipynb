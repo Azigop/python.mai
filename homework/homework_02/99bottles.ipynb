n = 99
while n > 2 : 
    print (f'{n} bottles of beer on the wall, {n} bottles of beer.') 
    n -= 1
    print (f'Take one down and pass it around, {n} bottles of beer on the wall.')
while n > 1 :
    print (f'{n} bottles of beer on the wall, {n} bottles of beer.') 
    n -= 1
    print (f'Take one down and pass it around, {n} bottle of beer on the wall.')
    print (f'{n} bottles of beer on the wall, {n} bottles of beer.')
print('Take one down and pass it around, no more bottles of beer on the wall.')
print('Go to the store and buy some more, 99 bottles of beer on the wall.')
