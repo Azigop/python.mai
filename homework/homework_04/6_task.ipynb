{
 "cells": [
  {
   "cell_type": "markdown",
   "id": "49944faf",
   "metadata": {},
   "source": [
    "# Самостоятельное задание #6\n",
    "\n",
    "\n",
    "### Задание 1\n",
    "\n",
    "\n",
    "Допишите функцию, которая принимает несколько параметров. Первый параметр - словарь, второй параметр - один из ключей данного словаря. Функция должна выводить значение этого ключа."
   ]
  },
  {
   "cell_type": "code",
   "execution_count": 2,
   "id": "3f41a526",
   "metadata": {},
   "outputs": [
    {
     "name": "stdout",
     "output_type": "stream",
     "text": [
      "Cocaine\n",
      "0.5\n"
     ]
    }
   ],
   "source": [
    "# Начните писать код тут\n",
    "def my_func(dir, key):\n",
    "    print(dir.get(key))\n",
    "\n",
    "\n",
    "dir = {\n",
    "    'Herb': 2,\n",
    "    'Ampoule_of_mescaline': 75,\n",
    "    'LSD': 5,\n",
    "    'Cocaine': 0.5,\n",
    "    'Tequila': 1,\n",
    "    'Rum': 1,\n",
    "    'amyl_nitrite': 12\n",
    "}\n",
    "\n",
    "key = str(input())\n",
    "my_func(dir, key)\n"
   ]
  },
  {
   "cell_type": "code",
   "execution_count": null,
   "id": "d136e3ce",
   "metadata": {},
   "outputs": [],
   "source": []
  }
 ],
 "metadata": {
  "kernelspec": {
   "display_name": "Python 3 (ipykernel)",
   "language": "python",
   "name": "python3"
  },
  "language_info": {
   "codemirror_mode": {
    "name": "ipython",
    "version": 3
   },
   "file_extension": ".py",
   "mimetype": "text/x-python",
   "name": "python",
   "nbconvert_exporter": "python",
   "pygments_lexer": "ipython3",
   "version": "3.9.7"
  }
 },
 "nbformat": 4,
 "nbformat_minor": 5
}
