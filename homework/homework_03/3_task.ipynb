{
 "cells": [
  {
   "cell_type": "markdown",
   "id": "657be689",
   "metadata": {},
   "source": [
    "# Самостоятельное задание #3\n",
    "\n",
    "\n",
    "### Задание 1\n",
    "\n",
    "Допишите функцию, которая принимает массив из 10 чисел и возвращает их сумму."
   ]
  },
  {
   "cell_type": "code",
   "execution_count": null,
   "id": "18ffcbab",
   "metadata": {},
   "outputs": [],
   "source": [
    "# Начните писать код тут\n",
    "n = [1, 2, 2, 5, 8, 9, 3, 10, 25, 5]\n",
    "def massive10_sum(n: list) -> float:\n",
    "    h = len(n)\n",
    "    if h != 10:\n",
    "        print('Кол-во элементов не равно 10')\n",
    "        return\n",
    "    sum = 0\n",
    "    for i in range(0, h):\n",
    "        sum += n[i]\n",
    "    else:\n",
    "        print(sum)\n",
    "\n",
    "massive10_sum(n)\n"
   ]
  },
  {
   "cell_type": "markdown",
   "id": "eb78afc0",
   "metadata": {},
   "source": [
    "\n",
    "### Задание 2\n",
    "\n",
    "Допишите функцию, которая принимает массив чисел и возвращает количество чисел равных нулю."
   ]
  },
  {
   "cell_type": "code",
   "execution_count": null,
   "id": "7e8fe536",
   "metadata": {},
   "outputs": [],
   "source": [
    "# Начните писать код тут\n",
    "a = [0,2,3,0,5,6,0,8,9,10]\n",
    "def calc_0(a) -> float:\n",
    "    n = 0\n",
    "    for i in a:\n",
    "        if i == 0:\n",
    "            n += 1\n",
    "    return n\n",
    "\n",
    "calc_0(a)\n"
   ]
  },
  {
   "cell_type": "markdown",
   "id": "570d5a26",
   "metadata": {},
   "source": [
    "\n",
    "### Задание 3\n",
    "\n",
    "Напишите программу, в которой задается  натуральное число n и выводится лестница из n ступенек, i-я ступенька должна состоять из чисел от 1 до i без пробелов."
   ]
  },
  {
   "cell_type": "code",
   "execution_count": 8,
   "id": "69fd0501",
   "metadata": {},
   "outputs": [
    {
     "name": "stdout",
     "output_type": "stream",
     "text": [
      "1\n",
      "12\n",
      "123\n",
      "1234\n",
      "12345\n",
      "123456\n",
      "1234567\n"
     ]
    }
   ],
   "source": [
    "def lesenka(n:int) -> int:\n",
    "    for i in range(1, n + 1):\n",
    "        s = ''\n",
    "        for b in range(1, i + 1):\n",
    "            s += str(b)\n",
    "        else:\n",
    "            print(s)\n",
    "\n",
    "\n",
    "lesenka(7)\n"
   ]
  },
  {
   "cell_type": "markdown",
   "id": "b6ef1c44",
   "metadata": {},
   "source": [
    "\n",
    "### Задание 4\n",
    "\n",
    "Напишите программу, в которой задается натуральное число n и выводится пирамида из n ступенек, i-я ступень должна состоять из чисел от 1 до i и обратно без пробелов."
   ]
  },
  {
   "cell_type": "code",
   "execution_count": 3,
   "id": "9f79c48e",
   "metadata": {},
   "outputs": [
    {
     "name": "stdout",
     "output_type": "stream",
     "text": [
      "   11   \n",
      "  1221  \n",
      " 123321 \n",
      "12344321\n"
     ]
    }
   ],
   "source": [
    "def treyg(n):\n",
    "    for i in range(1, n + 1):\n",
    "        s = ' ' * (n - i)\n",
    "        for b in range(1, i + 1):\n",
    "            s += str(b)\n",
    "        else:\n",
    "            print(s + s[::-1])\n",
    "\n",
    "\n",
    "treyg(4)\n"
   ]
  },
  {
   "cell_type": "markdown",
   "id": "b4552ef5",
   "metadata": {},
   "source": [
    "\n",
    "### Задание 5\n",
    "\n",
    "Напишите программу, в которой задается натуральное число n и выводится ромб из `n*2-1` ступенек, i-я ступень должна состоять из чисел от 1 до i и обратно без пробелов."
   ]
  },
  {
   "cell_type": "code",
   "execution_count": 4,
   "id": "5eaae897",
   "metadata": {},
   "outputs": [
    {
     "name": "stdout",
     "output_type": "stream",
     "text": [
      "        11        \n",
      "       1221       \n",
      "      123321      \n",
      "     12344321     \n",
      "    1234554321    \n",
      "   123456654321   \n",
      "  12345677654321  \n",
      " 1234567887654321 \n",
      "123456789987654321\n",
      " 1234567887654321 \n",
      "  12345677654321  \n",
      "   123456654321   \n",
      "    1234554321    \n",
      "     12344321     \n",
      "      123321      \n",
      "       1221       \n",
      "        11        \n"
     ]
    }
   ],
   "source": [
    "def piramid(n: int) -> int:\n",
    "    for i in range(1, n + 1):  # создаем цикл на строки\n",
    "        s = ' ' * (n - i)\n",
    "        for b in range(1, i + 1):  # цикл на содержание строки\n",
    "            s += str(b)  # записываем в строку s 1, 2, 3...\n",
    "        else:\n",
    "            print(s + s[::-1])  # в конце цыкла выводим строку\n",
    "\n",
    "    for i in range(n - 1, 0, -1):  # аюсолютно тот-же цикл только выводящий нижнюю часть ромба\n",
    "        s = ' ' * (n - i)\n",
    "        for b in range(1, i + 1):\n",
    "            s += str(b)\n",
    "        else:\n",
    "            print(s + s[::-1])\n",
    "\n",
    "\n",
    "piramid(9)\n"
   ]
  },
  {
   "cell_type": "code",
   "execution_count": null,
   "id": "0b1a71b0",
   "metadata": {},
   "outputs": [],
   "source": []
  }
 ],
 "metadata": {
  "kernelspec": {
   "display_name": "Python 3",
   "language": "python",
   "name": "python3"
  },
  "language_info": {
   "codemirror_mode": {
    "name": "ipython",
    "version": 3
   },
   "file_extension": ".py",
   "mimetype": "text/x-python",
   "name": "python",
   "nbconvert_exporter": "python",
   "pygments_lexer": "ipython3",
   "version": "3.8.8"
  }
 },
 "nbformat": 4,
 "nbformat_minor": 5
}
