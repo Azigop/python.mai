{
 "cells": [
  {
   "cell_type": "code",
   "execution_count": 6,
   "id": "efafe04c",
   "metadata": {},
   "outputs": [
    {
     "name": "stdout",
     "output_type": "stream",
     "text": [
      "Hello MAI!\n",
      "it's ME \\\n"
     ]
    }
   ],
   "source": [
    "greeting = 'Hello MAI!'\n",
    "\n",
    "print(greeting)\n",
    "\n",
    "pila = 'it\\'s ME \\\\'\n",
    "print(pila)"
   ]
  },
  {
   "cell_type": "code",
   "execution_count": 7,
   "id": "f09792e1",
   "metadata": {},
   "outputs": [
    {
     "name": "stdout",
     "output_type": "stream",
     "text": [
      "Результат равен 11\n"
     ]
    }
   ],
   "source": [
    "a= 1\n",
    "b = 10\n",
    "\n",
    "c = a + b\n",
    "print('Результат равен ' + str(c))"
   ]
  },
  {
   "cell_type": "code",
   "execution_count": 8,
   "id": "4f851948",
   "metadata": {},
   "outputs": [
    {
     "name": "stdout",
     "output_type": "stream",
     "text": [
      "Результат равен 11\n"
     ]
    }
   ],
   "source": [
    "a= 1\n",
    "b = 10\n",
    "\n",
    "c = a + b\n",
    "print(f'Результат равен {c}')"
   ]
  },
  {
   "cell_type": "code",
   "execution_count": 9,
   "id": "d4a5cc6a",
   "metadata": {},
   "outputs": [
    {
     "data": {
      "text/plain": [
       "'Privet!'"
      ]
     },
     "execution_count": 9,
     "metadata": {},
     "output_type": "execute_result"
    }
   ],
   "source": [
    "'Privet!'"
   ]
  },
  {
   "cell_type": "code",
   "execution_count": 12,
   "id": "cccb35eb",
   "metadata": {},
   "outputs": [
    {
     "data": {
      "text/plain": [
       "'privet!'"
      ]
     },
     "execution_count": 12,
     "metadata": {},
     "output_type": "execute_result"
    }
   ],
   "source": [
    "'Privet!'.lower()"
   ]
  },
  {
   "cell_type": "code",
   "execution_count": 13,
   "id": "4d2c3d11",
   "metadata": {},
   "outputs": [
    {
     "name": "stdout",
     "output_type": "stream",
     "text": [
      "5\n",
      "5\n"
     ]
    }
   ],
   "source": [
    "a = input()\n",
    "print(a)"
   ]
  },
  {
   "cell_type": "markdown",
   "id": "84d1c6f0",
   "metadata": {},
   "source": [
    "num = 1\n",
    "num2 = 5\n",
    "c = num + num2\n",
    "print(c)"
   ]
  },
  {
   "cell_type": "code",
   "execution_count": 14,
   "id": "c3d01260",
   "metadata": {},
   "outputs": [
    {
     "data": {
      "text/plain": [
       "int"
      ]
     },
     "execution_count": 14,
     "metadata": {},
     "output_type": "execute_result"
    }
   ],
   "source": [
    "number = 1\n",
    "type(number)"
   ]
  },
  {
   "cell_type": "code",
   "execution_count": 21,
   "id": "a0e04e4f",
   "metadata": {},
   "outputs": [
    {
     "name": "stdout",
     "output_type": "stream",
     "text": [
      "170\n",
      "-30\n",
      "7000\n",
      "0.7\n",
      "70\n",
      "0\n",
      "0.19999999999999996\n"
     ]
    }
   ],
   "source": [
    "a = 70\n",
    "b = 100\n",
    "print(a + b)\n",
    "print(a - b)\n",
    "print(a * b)\n",
    "print(a / b)\n",
    "\n",
    "print(a%b) #остаток от деления\n",
    "\n",
    "print(a // b) #деление но выводит только целое\n",
    "\n",
    "print(1.2 - 1.0) #показывает неточность двоичной системы"
   ]
  },
  {
   "cell_type": "code",
   "execution_count": 23,
   "id": "008ed5a8",
   "metadata": {},
   "outputs": [],
   "source": [
    "a = None #None - отсутствие значения(пустая переменная)"
   ]
  },
  {
   "cell_type": "code",
   "execution_count": 28,
   "id": "5f8c3dd4",
   "metadata": {},
   "outputs": [
    {
     "name": "stdout",
     "output_type": "stream",
     "text": [
      "False\n",
      "False\n",
      "True\n",
      "True\n"
     ]
    }
   ],
   "source": [
    "t = True #1\n",
    "f = False #2\n",
    "\n",
    "print(False)\n",
    "print(bool(0))\n",
    "print(bool(0.11))\n",
    "print(bool('0.11'))"
   ]
  },
  {
   "cell_type": "code",
   "execution_count": 27,
   "id": "464775a6",
   "metadata": {},
   "outputs": [
    {
     "data": {
      "text/plain": [
       "float"
      ]
     },
     "execution_count": 27,
     "metadata": {},
     "output_type": "execute_result"
    }
   ],
   "source": [
    "1e-5\n",
    "type(1e-5)"
   ]
  },
  {
   "cell_type": "code",
   "execution_count": 30,
   "id": "b58a84ce",
   "metadata": {},
   "outputs": [
    {
     "data": {
      "text/plain": [
       "(1+1j)"
      ]
     },
     "execution_count": 30,
     "metadata": {},
     "output_type": "execute_result"
    }
   ],
   "source": [
    "1j+1 #комлексное число"
   ]
  },
  {
   "cell_type": "code",
   "execution_count": 47,
   "id": "8969d511",
   "metadata": {
    "scrolled": true
   },
   "outputs": [
    {
     "name": "stdout",
     "output_type": "stream",
     "text": [
      "[1, 'Hello', True, [1.0]]\n",
      "1\n",
      "[1, 'Hello']\n",
      "[1, True]\n"
     ]
    },
    {
     "ename": "TypeError",
     "evalue": "'list' object is not callable",
     "output_type": "error",
     "traceback": [
      "\u001b[1;31m---------------------------------------------------------------------------\u001b[0m",
      "\u001b[1;31mTypeError\u001b[0m                                 Traceback (most recent call last)",
      "\u001b[1;32m<ipython-input-47-5b776e4ab160>\u001b[0m in \u001b[0;36m<module>\u001b[1;34m\u001b[0m\n\u001b[0;32m      4\u001b[0m \u001b[0mprint\u001b[0m\u001b[1;33m(\u001b[0m\u001b[0marrey\u001b[0m\u001b[1;33m[\u001b[0m\u001b[1;36m0\u001b[0m\u001b[1;33m:\u001b[0m\u001b[1;36m2\u001b[0m\u001b[1;33m]\u001b[0m\u001b[1;33m)\u001b[0m\u001b[1;33m\u001b[0m\u001b[1;33m\u001b[0m\u001b[0m\n\u001b[0;32m      5\u001b[0m \u001b[0mprint\u001b[0m\u001b[1;33m(\u001b[0m\u001b[0marrey\u001b[0m\u001b[1;33m[\u001b[0m\u001b[1;36m0\u001b[0m\u001b[1;33m:\u001b[0m\u001b[1;36m4\u001b[0m\u001b[1;33m:\u001b[0m\u001b[1;36m2\u001b[0m\u001b[1;33m]\u001b[0m\u001b[1;33m)\u001b[0m\u001b[1;33m\u001b[0m\u001b[1;33m\u001b[0m\u001b[0m\n\u001b[1;32m----> 6\u001b[1;33m \u001b[0marrey\u001b[0m\u001b[1;33m(\u001b[0m\u001b[0marray\u001b[0m\u001b[1;33m.\u001b[0m\u001b[0mreverse\u001b[0m\u001b[1;33m)\u001b[0m\u001b[1;33m\u001b[0m\u001b[1;33m\u001b[0m\u001b[0m\n\u001b[0m",
      "\u001b[1;31mTypeError\u001b[0m: 'list' object is not callable"
     ]
    }
   ],
   "source": [
    "arrey = [1, 'Hello', True, [1.0]]\n",
    "print(arrey)\n",
    "print(arrey[0])\n",
    "print(arrey[0:2])\n",
    "print(arrey[0:4:2])"
   ]
  },
  {
   "cell_type": "code",
   "execution_count": 51,
   "id": "152a0d1f",
   "metadata": {},
   "outputs": [
    {
     "name": "stdout",
     "output_type": "stream",
     "text": [
      "[0, 1, 2, 3, 4, 5, 6, 7, 8, 9]\n",
      "[9, 8, 7, 6, 5, 4, 3, 2, 1, 0]\n",
      "lenght: 10\n"
     ]
    }
   ],
   "source": [
    "arry = [ 0, 1, 2, 3, 4, 5, 6, 7, 8, 9]\n",
    "print(arry)\n",
    "print(arry[::-1])\n",
    "print(f'lenght: {len(arry)}')"
   ]
  },
  {
   "cell_type": "code",
   "execution_count": 52,
   "id": "03bdea04",
   "metadata": {},
   "outputs": [
    {
     "name": "stdout",
     "output_type": "stream",
     "text": [
      "(0, 1, 2, 3, 4, 5, 6, 7, 8, 9)\n"
     ]
    }
   ],
   "source": [
    "arr = ( 0, 1, 2, 3, 4, 5, 6, 7, 8, 9)\n",
    "print(arr)\n"
   ]
  },
  {
   "cell_type": "code",
   "execution_count": 54,
   "id": "aadfdb08",
   "metadata": {},
   "outputs": [
    {
     "name": "stdout",
     "output_type": "stream",
     "text": [
      "1\n",
      "2\n"
     ]
    }
   ],
   "source": [
    "t = (1, 2)\n",
    "a, b = t\n",
    "print(a)\n",
    "print(b)"
   ]
  },
  {
   "cell_type": "code",
   "execution_count": null,
   "id": "2374a131",
   "metadata": {},
   "outputs": [],
   "source": []
  }
 ],
 "metadata": {
  "kernelspec": {
   "display_name": "Python 3",
   "language": "python",
   "name": "python3"
  },
  "language_info": {
   "codemirror_mode": {
    "name": "ipython",
    "version": 3
   },
   "file_extension": ".py",
   "mimetype": "text/x-python",
   "name": "python",
   "nbconvert_exporter": "python",
   "pygments_lexer": "ipython3",
   "version": "3.8.8"
  }
 },
 "nbformat": 4,
 "nbformat_minor": 5
}
